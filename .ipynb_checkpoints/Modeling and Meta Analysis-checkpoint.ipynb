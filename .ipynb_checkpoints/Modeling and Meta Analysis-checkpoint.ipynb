{
 "cells": [
  {
   "cell_type": "markdown",
   "metadata": {},
   "source": [
    "# Modeling and Meta Analysis"
   ]
  },
  {
   "cell_type": "markdown",
   "metadata": {},
   "source": [
    "## Getting Started"
   ]
  },
  {
   "cell_type": "markdown",
   "metadata": {},
   "source": [
    "As always, let's import our useful libraries."
   ]
  },
  {
   "cell_type": "code",
   "execution_count": 3,
   "metadata": {},
   "outputs": [],
   "source": [
    "import pandas as pd\n",
    "import numpy as np\n",
    "import matplotlib.pyplot as plt"
   ]
  },
  {
   "cell_type": "code",
   "execution_count": 13,
   "metadata": {},
   "outputs": [],
   "source": [
    "import warnings\n",
    "warnings.filterwarnings('ignore')"
   ]
  },
  {
   "cell_type": "code",
   "execution_count": 5,
   "metadata": {},
   "outputs": [],
   "source": [
    "from statsmodels.tsa.arima_model import ARIMA\n",
    "import statsmodels.api as sm"
   ]
  },
  {
   "cell_type": "markdown",
   "metadata": {},
   "source": [
    "## Iterative ARIMA Modeling"
   ]
  },
  {
   "cell_type": "markdown",
   "metadata": {},
   "source": [
    "Even though we were able to get a stationary dataset for the average values across time, that doesn't help us select an individual county. To get through this we can individually model the counties that are available in the dataset using a few helper functions. These are designed specifically to work with our current use-case."
   ]
  },
  {
   "cell_type": "code",
   "execution_count": 7,
   "metadata": {},
   "outputs": [],
   "source": [
    "def transform_row(row, df):\n",
    "    #This function takes in an index row of the dataframe to generate and return\n",
    "    #a timeseries and the regional zipcode\n",
    "    TS = df.iloc[row]\n",
    "    RegionName = TS.iloc[0]\n",
    "    TS.drop('RegionName', inplace = True, axis = 0)\n",
    "    TS.index = pd.to_datetime(TS.index)\n",
    "    TS.dropna(inplace = True)\n",
    "    return TS, RegionName"
   ]
  },
  {
   "cell_type": "code",
   "execution_count": 8,
   "metadata": {},
   "outputs": [],
   "source": [
    "def Iterative_ARIMA(series):\n",
    "    #This function takes in a timeseries series, iteratively conducts ARIMA models of select PDQ values,\n",
    "    #selects the best model by minimizing AIC, then returns AIC score, optimized PDQ, and model RMSE.\n",
    "    \n",
    "    #####\n",
    "    #Function iteratively models select permutations of PDQ to generate a list of AIC values.\n",
    "    #Dictionaries tie model paramaters (PDQ) and measure of error (RMSE) to AIC results\n",
    "    #by using AIC as a key value. The function will then select the lowest AIC value from the list,\n",
    "    #then lookup the associated paramters and error in the dictionaries to return theses values\n",
    "    #from the function.\n",
    "    p = range(0,4)\n",
    "    d = range(0,3)\n",
    "    q = range(0,4)\n",
    "    \n",
    "    PDQ_result_lookup_by_AIC = {}\n",
    "    RMSE_result_lookup_by_AIC = {}\n",
    "    AIC = []\n",
    "    \n",
    "    for j in d:\n",
    "        for i in p:\n",
    "            for i in q:\n",
    "                try:\n",
    "                    ARIMA_model = ARIMA(endog = series.values, dates = series.index, order = (p[i],d[j],q[i]))\n",
    "                    fit = ARIMA_model.fit()\n",
    "                    AIC.append(fit.aic)\n",
    "                    PDQ_result_lookup_by_AIC[fit.aic] = (p[i],d[j],q[i])\n",
    "                    RMSE_result_lookup_by_AIC[fit.aic] = np.sqrt(np.mean(fit.resid**2))\n",
    "                except:\n",
    "                    continue\n",
    "    best = min(AIC)\n",
    "    pdq = PDQ_result_lookup_by_AIC[best]\n",
    "    rmse = RMSE_result_lookup_by_AIC[best]\n",
    "    return best, pdq, rmse"
   ]
  },
  {
   "cell_type": "code",
   "execution_count": 9,
   "metadata": {},
   "outputs": [],
   "source": [
    "def ARIMA_basic_forecast(series, pdq, periods):\n",
    "    #This function takes in a timeseries, an array of pdq values, and an integeer number of periods\n",
    "    #to model the the entered timeseries. This function then returns\n",
    "    #the final forecast result, the lower bound of the forecast, and the upper bound of the forecast.\n",
    "    ARIMA_model = ARIMA(endog = series.values, dates = series.index, order = pdq)\n",
    "    fit = ARIMA_model.fit()\n",
    "    forecast = fit.forecast(periods)\n",
    "    forecast_result = forecast[0][-1]\n",
    "    forecast_lower_bound = forecast[2][-1][0]\n",
    "    forecast_upper_bound = forecast[2][-1][1]\n",
    "    return forecast_result, forecast_lower_bound, forecast_upper_bound"
   ]
  },
  {
   "cell_type": "markdown",
   "metadata": {},
   "source": [
    "Before we can put these to work, we'll need to bring our dataframe and transform it again."
   ]
  },
  {
   "cell_type": "code",
   "execution_count": 6,
   "metadata": {},
   "outputs": [
    {
     "data": {
      "text/html": [
       "<div>\n",
       "<style scoped>\n",
       "    .dataframe tbody tr th:only-of-type {\n",
       "        vertical-align: middle;\n",
       "    }\n",
       "\n",
       "    .dataframe tbody tr th {\n",
       "        vertical-align: top;\n",
       "    }\n",
       "\n",
       "    .dataframe thead th {\n",
       "        text-align: right;\n",
       "    }\n",
       "</style>\n",
       "<table border=\"1\" class=\"dataframe\">\n",
       "  <thead>\n",
       "    <tr style=\"text-align: right;\">\n",
       "      <th></th>\n",
       "      <th>RegionName</th>\n",
       "      <th>1996-04</th>\n",
       "      <th>1996-05</th>\n",
       "      <th>1996-06</th>\n",
       "      <th>1996-07</th>\n",
       "      <th>1996-08</th>\n",
       "      <th>1996-09</th>\n",
       "      <th>1996-10</th>\n",
       "      <th>1996-11</th>\n",
       "      <th>1996-12</th>\n",
       "      <th>...</th>\n",
       "      <th>2017-07</th>\n",
       "      <th>2017-08</th>\n",
       "      <th>2017-09</th>\n",
       "      <th>2017-10</th>\n",
       "      <th>2017-11</th>\n",
       "      <th>2017-12</th>\n",
       "      <th>2018-01</th>\n",
       "      <th>2018-02</th>\n",
       "      <th>2018-03</th>\n",
       "      <th>2018-04</th>\n",
       "    </tr>\n",
       "  </thead>\n",
       "  <tbody>\n",
       "    <tr>\n",
       "      <th>0</th>\n",
       "      <td>60657</td>\n",
       "      <td>334200.0</td>\n",
       "      <td>335400.0</td>\n",
       "      <td>336500.0</td>\n",
       "      <td>337600.0</td>\n",
       "      <td>338500.0</td>\n",
       "      <td>339500.0</td>\n",
       "      <td>340400.0</td>\n",
       "      <td>341300.0</td>\n",
       "      <td>342600.0</td>\n",
       "      <td>...</td>\n",
       "      <td>1005500</td>\n",
       "      <td>1007500</td>\n",
       "      <td>1007800</td>\n",
       "      <td>1009600</td>\n",
       "      <td>1013300</td>\n",
       "      <td>1018700</td>\n",
       "      <td>1024400</td>\n",
       "      <td>1030700</td>\n",
       "      <td>1033800</td>\n",
       "      <td>1030600</td>\n",
       "    </tr>\n",
       "    <tr>\n",
       "      <th>1</th>\n",
       "      <td>75070</td>\n",
       "      <td>235700.0</td>\n",
       "      <td>236900.0</td>\n",
       "      <td>236700.0</td>\n",
       "      <td>235400.0</td>\n",
       "      <td>233300.0</td>\n",
       "      <td>230600.0</td>\n",
       "      <td>227300.0</td>\n",
       "      <td>223400.0</td>\n",
       "      <td>219600.0</td>\n",
       "      <td>...</td>\n",
       "      <td>308000</td>\n",
       "      <td>310000</td>\n",
       "      <td>312500</td>\n",
       "      <td>314100</td>\n",
       "      <td>315000</td>\n",
       "      <td>316600</td>\n",
       "      <td>318100</td>\n",
       "      <td>319600</td>\n",
       "      <td>321100</td>\n",
       "      <td>321800</td>\n",
       "    </tr>\n",
       "    <tr>\n",
       "      <th>2</th>\n",
       "      <td>77494</td>\n",
       "      <td>210400.0</td>\n",
       "      <td>212200.0</td>\n",
       "      <td>212200.0</td>\n",
       "      <td>210700.0</td>\n",
       "      <td>208300.0</td>\n",
       "      <td>205500.0</td>\n",
       "      <td>202500.0</td>\n",
       "      <td>199800.0</td>\n",
       "      <td>198300.0</td>\n",
       "      <td>...</td>\n",
       "      <td>321000</td>\n",
       "      <td>320600</td>\n",
       "      <td>320200</td>\n",
       "      <td>320400</td>\n",
       "      <td>320800</td>\n",
       "      <td>321200</td>\n",
       "      <td>321200</td>\n",
       "      <td>323000</td>\n",
       "      <td>326900</td>\n",
       "      <td>329900</td>\n",
       "    </tr>\n",
       "    <tr>\n",
       "      <th>3</th>\n",
       "      <td>60614</td>\n",
       "      <td>498100.0</td>\n",
       "      <td>500900.0</td>\n",
       "      <td>503100.0</td>\n",
       "      <td>504600.0</td>\n",
       "      <td>505500.0</td>\n",
       "      <td>505700.0</td>\n",
       "      <td>505300.0</td>\n",
       "      <td>504200.0</td>\n",
       "      <td>503600.0</td>\n",
       "      <td>...</td>\n",
       "      <td>1289800</td>\n",
       "      <td>1287700</td>\n",
       "      <td>1287400</td>\n",
       "      <td>1291500</td>\n",
       "      <td>1296600</td>\n",
       "      <td>1299000</td>\n",
       "      <td>1302700</td>\n",
       "      <td>1306400</td>\n",
       "      <td>1308500</td>\n",
       "      <td>1307000</td>\n",
       "    </tr>\n",
       "    <tr>\n",
       "      <th>4</th>\n",
       "      <td>79936</td>\n",
       "      <td>77300.0</td>\n",
       "      <td>77300.0</td>\n",
       "      <td>77300.0</td>\n",
       "      <td>77300.0</td>\n",
       "      <td>77400.0</td>\n",
       "      <td>77500.0</td>\n",
       "      <td>77600.0</td>\n",
       "      <td>77700.0</td>\n",
       "      <td>77700.0</td>\n",
       "      <td>...</td>\n",
       "      <td>119100</td>\n",
       "      <td>119400</td>\n",
       "      <td>120000</td>\n",
       "      <td>120300</td>\n",
       "      <td>120300</td>\n",
       "      <td>120300</td>\n",
       "      <td>120300</td>\n",
       "      <td>120500</td>\n",
       "      <td>121000</td>\n",
       "      <td>121500</td>\n",
       "    </tr>\n",
       "  </tbody>\n",
       "</table>\n",
       "<p>5 rows × 266 columns</p>\n",
       "</div>"
      ],
      "text/plain": [
       "   RegionName   1996-04   1996-05   1996-06   1996-07   1996-08   1996-09  \\\n",
       "0       60657  334200.0  335400.0  336500.0  337600.0  338500.0  339500.0   \n",
       "1       75070  235700.0  236900.0  236700.0  235400.0  233300.0  230600.0   \n",
       "2       77494  210400.0  212200.0  212200.0  210700.0  208300.0  205500.0   \n",
       "3       60614  498100.0  500900.0  503100.0  504600.0  505500.0  505700.0   \n",
       "4       79936   77300.0   77300.0   77300.0   77300.0   77400.0   77500.0   \n",
       "\n",
       "    1996-10   1996-11   1996-12   ...     2017-07  2017-08  2017-09  2017-10  \\\n",
       "0  340400.0  341300.0  342600.0   ...     1005500  1007500  1007800  1009600   \n",
       "1  227300.0  223400.0  219600.0   ...      308000   310000   312500   314100   \n",
       "2  202500.0  199800.0  198300.0   ...      321000   320600   320200   320400   \n",
       "3  505300.0  504200.0  503600.0   ...     1289800  1287700  1287400  1291500   \n",
       "4   77600.0   77700.0   77700.0   ...      119100   119400   120000   120300   \n",
       "\n",
       "   2017-11  2017-12  2018-01  2018-02  2018-03  2018-04  \n",
       "0  1013300  1018700  1024400  1030700  1033800  1030600  \n",
       "1   315000   316600   318100   319600   321100   321800  \n",
       "2   320800   321200   321200   323000   326900   329900  \n",
       "3  1296600  1299000  1302700  1306400  1308500  1307000  \n",
       "4   120300   120300   120300   120500   121000   121500  \n",
       "\n",
       "[5 rows x 266 columns]"
      ]
     },
     "execution_count": 6,
     "metadata": {},
     "output_type": "execute_result"
    }
   ],
   "source": [
    "df = pd.read_csv('zillow_data.csv')\n",
    "drop = list(df.columns[[0,2,3,4,5,6]])\n",
    "df = df.drop(drop, axis = 1)\n",
    "df.head()"
   ]
  },
  {
   "cell_type": "markdown",
   "metadata": {},
   "source": [
    "## A quick test"
   ]
  },
  {
   "cell_type": "code",
   "execution_count": 19,
   "metadata": {},
   "outputs": [],
   "source": [
    "TS, RegionName = transform_row(1,df)\n",
    "aic, pdq, rmse = Iterative_ARIMA(TS)\n",
    "forecast_result, lower, upper = ARIMA_basic_forecast(TS, pdq, 60)"
   ]
  },
  {
   "cell_type": "code",
   "execution_count": 20,
   "metadata": {},
   "outputs": [
    {
     "name": "stdout",
     "output_type": "stream",
     "text": [
      "75070.0 428.48379632028303 424049.9515656508\n"
     ]
    }
   ],
   "source": [
    "print(RegionName, rmse, forecast_result)"
   ]
  },
  {
   "cell_type": "code",
   "execution_count": 21,
   "metadata": {},
   "outputs": [
    {
     "data": {
      "text/plain": [
       "1996-04-01    235700.0\n",
       "1996-05-01    236900.0\n",
       "1996-06-01    236700.0\n",
       "1996-07-01    235400.0\n",
       "1996-08-01    233300.0\n",
       "Name: 1, dtype: float64"
      ]
     },
     "execution_count": 21,
     "metadata": {},
     "output_type": "execute_result"
    }
   ],
   "source": [
    "TS.head()"
   ]
  },
  {
   "cell_type": "markdown",
   "metadata": {},
   "source": [
    "## Iteratively Modeling the Entire DataFrame"
   ]
  },
  {
   "cell_type": "markdown",
   "metadata": {},
   "source": [
    "Looks like everything matches up with what we'd expect from what we can see in the dataframe. From here, the question is just whether or not we are able to continue iterating forward with the entire dataset.\n",
    "\n",
    "To prevent you from accidentally running this operation, I'm going to leave the entire loop in `\"\"\"\"\"\"`."
   ]
  },
  {
   "cell_type": "code",
   "execution_count": 24,
   "metadata": {},
   "outputs": [
    {
     "name": "stdout",
     "output_type": "stream",
     "text": [
      "I just saved your life!\n"
     ]
    }
   ],
   "source": [
    "\"\"\"\n",
    "Models = None\n",
    "Models = pd.DataFrame(columns = ['Region Name', 'AIC', 'PDQ', 'RMSE', 'ROI Proj', 'Worst ROI', 'Best ROI'])\n",
    "\n",
    "start = timeit.default_timer()\n",
    "\n",
    "for i in range(0, len(df)):\n",
    "    TS, RegionName = transform_row(i,df)\n",
    "    aic, pdq, rmse = Iterative_ARIMA(TS)\n",
    "    forecast_result, lower, upper = ARIMA_basic_forecast(TS, pdq, 60)\n",
    "\n",
    "    Models = Models.append({'Region Name': RegionName,\n",
    "                            'AIC': aic,\n",
    "                            'PDQ': pdq,\n",
    "                            'RMSE': rmse,\n",
    "                            'ROI Proj': int(forecast_result - TS.values[-1]),\n",
    "                            'Worst ROI': int(lower - TS.values[-1]),\n",
    "                            'Best ROI': int(upper - TS.values[-1])}, ignore_index = True)\n",
    "    \n",
    "    end = timeit.default_timer()\n",
    "    time = end-start\n",
    "    if time > 60**2:\n",
    "        Models.to_csv(r\"Models_savepoint\")\n",
    "        start = timeit.default_timer()\n",
    "        print(f'Autosaved at index #{i}. {(i/len(df))*100}% completed.')\n",
    "\"\"\"\n",
    "print(\"I just saved your life!\")"
   ]
  },
  {
   "cell_type": "markdown",
   "metadata": {},
   "source": [
    "As you can see above, the operation starts out by creating a new, separate dataframe which will catalog all the results that are returned from our iterative model selection. That way, we not only store all the forecast result (ROI) information for easy lookup by zipcode later, we're also able to pull the exact same model parameters that produced that result.\n",
    "\n",
    "This loop also has an added autosave feature that makes sure to save everything loaded into the dataframe once every hour, to avoid losing progress. In the [Functions and Model Testing](Functions%20and%20Model%20Testing.ipynb) notebook, where this code was run and the functions developed, you can see that it would take an estimated **1.5 days to fully optimize, select, and forecast each county using the functions provided.**\n",
    "\n",
    "Now that enough time has passed that we're able to simply review the results of our models, we can just break into a meta-analysis of the results to select our top five zip codes."
   ]
  },
  {
   "cell_type": "code",
   "execution_count": 31,
   "metadata": {},
   "outputs": [
    {
     "data": {
      "text/html": [
       "<div>\n",
       "<style scoped>\n",
       "    .dataframe tbody tr th:only-of-type {\n",
       "        vertical-align: middle;\n",
       "    }\n",
       "\n",
       "    .dataframe tbody tr th {\n",
       "        vertical-align: top;\n",
       "    }\n",
       "\n",
       "    .dataframe thead th {\n",
       "        text-align: right;\n",
       "    }\n",
       "</style>\n",
       "<table border=\"1\" class=\"dataframe\">\n",
       "  <thead>\n",
       "    <tr style=\"text-align: right;\">\n",
       "      <th></th>\n",
       "      <th>Region Name</th>\n",
       "      <th>AIC</th>\n",
       "      <th>PDQ</th>\n",
       "      <th>RMSE</th>\n",
       "      <th>ROI Proj</th>\n",
       "      <th>Worst ROI</th>\n",
       "      <th>Best ROI</th>\n",
       "    </tr>\n",
       "  </thead>\n",
       "  <tbody>\n",
       "    <tr>\n",
       "      <th>0</th>\n",
       "      <td>60657.0</td>\n",
       "      <td>4527.565542</td>\n",
       "      <td>(3, 2, 3)</td>\n",
       "      <td>1274.610917</td>\n",
       "      <td>20725</td>\n",
       "      <td>-446438</td>\n",
       "      <td>487890</td>\n",
       "    </tr>\n",
       "    <tr>\n",
       "      <th>1</th>\n",
       "      <td>75070.0</td>\n",
       "      <td>3944.553454</td>\n",
       "      <td>(3, 2, 3)</td>\n",
       "      <td>428.483796</td>\n",
       "      <td>102249</td>\n",
       "      <td>52616</td>\n",
       "      <td>151883</td>\n",
       "    </tr>\n",
       "    <tr>\n",
       "      <th>2</th>\n",
       "      <td>77494.0</td>\n",
       "      <td>4170.705016</td>\n",
       "      <td>(3, 2, 3)</td>\n",
       "      <td>655.555310</td>\n",
       "      <td>37196</td>\n",
       "      <td>-100010</td>\n",
       "      <td>174402</td>\n",
       "    </tr>\n",
       "    <tr>\n",
       "      <th>3</th>\n",
       "      <td>60614.0</td>\n",
       "      <td>4604.868165</td>\n",
       "      <td>(3, 2, 3)</td>\n",
       "      <td>1477.583385</td>\n",
       "      <td>-37592</td>\n",
       "      <td>-720087</td>\n",
       "      <td>644901</td>\n",
       "    </tr>\n",
       "    <tr>\n",
       "      <th>4</th>\n",
       "      <td>79936.0</td>\n",
       "      <td>3510.977138</td>\n",
       "      <td>(2, 2, 2)</td>\n",
       "      <td>186.962339</td>\n",
       "      <td>28072</td>\n",
       "      <td>-86593</td>\n",
       "      <td>142737</td>\n",
       "    </tr>\n",
       "  </tbody>\n",
       "</table>\n",
       "</div>"
      ],
      "text/plain": [
       "   Region Name          AIC        PDQ         RMSE  ROI Proj  Worst ROI  \\\n",
       "0      60657.0  4527.565542  (3, 2, 3)  1274.610917     20725    -446438   \n",
       "1      75070.0  3944.553454  (3, 2, 3)   428.483796    102249      52616   \n",
       "2      77494.0  4170.705016  (3, 2, 3)   655.555310     37196    -100010   \n",
       "3      60614.0  4604.868165  (3, 2, 3)  1477.583385    -37592    -720087   \n",
       "4      79936.0  3510.977138  (2, 2, 2)   186.962339     28072     -86593   \n",
       "\n",
       "   Best ROI  \n",
       "0    487890  \n",
       "1    151883  \n",
       "2    174402  \n",
       "3    644901  \n",
       "4    142737  "
      ]
     },
     "execution_count": 31,
     "metadata": {},
     "output_type": "execute_result"
    }
   ],
   "source": [
    "beta = pd.read_csv('Models_savepoint.csv')\n",
    "beta.drop(beta.columns[0], inplace = True, axis = 1)\n",
    "beta.head()"
   ]
  },
  {
   "cell_type": "code",
   "execution_count": 69,
   "metadata": {},
   "outputs": [
    {
     "data": {
      "image/png": "[encoded data removed]",
      "text/plain": [
       "<Figure size 1080x360 with 3 Axes>"
      ]
     },
     "metadata": {
      "needs_background": "light"
     },
     "output_type": "display_data"
    }
   ],
   "source": [
    "plt.figure(figsize = (15,5))\n",
    "plt.suptitle('Distribution of ROI: Projected, Worst, and Best Cases', fontsize = 20)\n",
    "\n",
    "plt.subplot(1,3,1)\n",
    "plt.title('Dist of projected ROI')\n",
    "plt.hist(beta['ROI Proj'], bins = 20, density = True);\n",
    "\n",
    "plt.subplot(1,3,2)\n",
    "plt.title('Dist of Worst ROI')\n",
    "plt.hist(beta['Worst ROI'], bins = 20, density = True);\n",
    "\n",
    "plt.subplot(1,3,3)\n",
    "plt.title('Dist of Best ROI')\n",
    "plt.hist(beta['Best ROI'], bins = 20, density = True);"
   ]
  },
  {
   "cell_type": "code",
   "execution_count": 64,
   "metadata": {
    "scrolled": true
   },
   "outputs": [
    {
     "data": {
      "image/png": "[encoded data removed]",
      "text/plain": [
       "<Figure size 1080x360 with 3 Axes>"
      ]
     },
     "metadata": {
      "needs_background": "light"
     },
     "output_type": "display_data"
    }
   ],
   "source": [
    "plt.figure(figsize = (15,5))\n",
    "plt.suptitle('Log Normalized Distribution of ROI: Projected, Worst, and Best Cases', fontsize = 20)\n",
    "\n",
    "plt.subplot(1,3,1)\n",
    "plt.title('Dist of projected ROI')\n",
    "plt.hist(np.log(beta['ROI Proj']), bins = 20, density = True);\n",
    "\n",
    "plt.subplot(1,3,2)\n",
    "plt.title('Dist of Worst ROI')\n",
    "plt.hist(np.log(beta['Worst ROI']), bins = 20, density = True);\n",
    "\n",
    "plt.subplot(1,3,3)\n",
    "plt.title('Dist of Best ROI')\n",
    "plt.hist(np.log(beta['Best ROI']), bins = 20, density = True);"
   ]
  },
  {
   "cell_type": "markdown",
   "metadata": {},
   "source": [
    "It looks like so far we've got a normal distribution of possible outcomes to choose from - this is Central Limit Theorem in action.\n",
    "\n",
    "Since we've got normalized populations to select our models from, we can start using meta analysis to clarify our prior conditions. Earlier, we said that we wanted to select the top five counties based on:\n",
    "\n",
    "* Low risk\n",
    "* Moderate to high reward\n",
    "\n",
    "Now that we have a population of predictions, possible outcomes, and returns, we can quantify what these vague parameters mean. We're going to specify that:\n",
    "\n",
    "* **Low Risk** means that the worst case return/loss is in the top 25% of the population, such that 75% of zipcodes will perform worse.\n",
    "\n",
    "* **Moderate to High Reward** means that the projected ROI and best case outcome ROI are in the top 25% of the population, such that 75% of zipcodes will perform worse.\n",
    "\n",
    "So, let's slice our dataframe to that effect."
   ]
  },
  {
   "cell_type": "code",
   "execution_count": 100,
   "metadata": {},
   "outputs": [],
   "source": [
    "PROI = beta['ROI Proj'].quantile(q = 0.75)\n",
    "WROI = beta['Worst ROI'].quantile(q = 0.75)\n",
    "BROI = beta['Best ROI'].quantile(q = 0.75)"
   ]
  },
  {
   "cell_type": "code",
   "execution_count": 101,
   "metadata": {},
   "outputs": [
    {
     "data": {
      "text/plain": [
       "1043"
      ]
     },
     "execution_count": 101,
     "metadata": {},
     "output_type": "execute_result"
    }
   ],
   "source": [
    "refine = beta.loc[(beta['ROI Proj'] >= PROI) &\n",
    "        (beta['Worst ROI'] >= WROI) &\n",
    "        (beta['Best ROI'] >= BROI)]\n",
    "refine.size"
   ]
  },
  {
   "cell_type": "markdown",
   "metadata": {},
   "source": [
    "It looks like there's actually room to be even more strict! What happens if we only look at the top 1% of performers in all categories?"
   ]
  },
  {
   "cell_type": "code",
   "execution_count": 102,
   "metadata": {},
   "outputs": [],
   "source": [
    "PROI = beta['ROI Proj'].quantile(q = 0.99)\n",
    "WROI = beta['Worst ROI'].quantile(q = 0.99)\n",
    "BROI = beta['Best ROI'].quantile(q = 0.99)"
   ]
  },
  {
   "cell_type": "code",
   "execution_count": 103,
   "metadata": {},
   "outputs": [
    {
     "data": {
      "text/html": [
       "<div>\n",
       "<style scoped>\n",
       "    .dataframe tbody tr th:only-of-type {\n",
       "        vertical-align: middle;\n",
       "    }\n",
       "\n",
       "    .dataframe tbody tr th {\n",
       "        vertical-align: top;\n",
       "    }\n",
       "\n",
       "    .dataframe thead th {\n",
       "        text-align: right;\n",
       "    }\n",
       "</style>\n",
       "<table border=\"1\" class=\"dataframe\">\n",
       "  <thead>\n",
       "    <tr style=\"text-align: right;\">\n",
       "      <th></th>\n",
       "      <th>Region Name</th>\n",
       "      <th>AIC</th>\n",
       "      <th>PDQ</th>\n",
       "      <th>RMSE</th>\n",
       "      <th>ROI Proj</th>\n",
       "      <th>Worst ROI</th>\n",
       "      <th>Best ROI</th>\n",
       "    </tr>\n",
       "  </thead>\n",
       "  <tbody>\n",
       "    <tr>\n",
       "      <th>516</th>\n",
       "      <td>94087.0</td>\n",
       "      <td>4858.906806</td>\n",
       "      <td>(3, 2, 3)</td>\n",
       "      <td>2387.999039</td>\n",
       "      <td>1159441</td>\n",
       "      <td>529117</td>\n",
       "      <td>1789765</td>\n",
       "    </tr>\n",
       "    <tr>\n",
       "      <th>1397</th>\n",
       "      <td>90057.0</td>\n",
       "      <td>4665.146973</td>\n",
       "      <td>(3, 2, 3)</td>\n",
       "      <td>1657.130063</td>\n",
       "      <td>1031891</td>\n",
       "      <td>244640</td>\n",
       "      <td>1819142</td>\n",
       "    </tr>\n",
       "    <tr>\n",
       "      <th>1856</th>\n",
       "      <td>95050.0</td>\n",
       "      <td>4706.938825</td>\n",
       "      <td>(2, 2, 2)</td>\n",
       "      <td>1807.023303</td>\n",
       "      <td>1687405</td>\n",
       "      <td>303942</td>\n",
       "      <td>3070867</td>\n",
       "    </tr>\n",
       "    <tr>\n",
       "      <th>2580</th>\n",
       "      <td>94043.0</td>\n",
       "      <td>4882.069071</td>\n",
       "      <td>(3, 2, 3)</td>\n",
       "      <td>2494.279551</td>\n",
       "      <td>1568611</td>\n",
       "      <td>783171</td>\n",
       "      <td>2354052</td>\n",
       "    </tr>\n",
       "    <tr>\n",
       "      <th>3017</th>\n",
       "      <td>98119.0</td>\n",
       "      <td>4537.200904</td>\n",
       "      <td>(2, 2, 2)</td>\n",
       "      <td>1311.771139</td>\n",
       "      <td>1204929</td>\n",
       "      <td>506969</td>\n",
       "      <td>1902890</td>\n",
       "    </tr>\n",
       "    <tr>\n",
       "      <th>3339</th>\n",
       "      <td>94306.0</td>\n",
       "      <td>5070.763511</td>\n",
       "      <td>(3, 2, 3)</td>\n",
       "      <td>3550.077746</td>\n",
       "      <td>1323834</td>\n",
       "      <td>544033</td>\n",
       "      <td>2103636</td>\n",
       "    </tr>\n",
       "    <tr>\n",
       "      <th>5328</th>\n",
       "      <td>94089.0</td>\n",
       "      <td>4635.071179</td>\n",
       "      <td>(3, 2, 3)</td>\n",
       "      <td>1555.524740</td>\n",
       "      <td>1113077</td>\n",
       "      <td>296895</td>\n",
       "      <td>1929259</td>\n",
       "    </tr>\n",
       "    <tr>\n",
       "      <th>5414</th>\n",
       "      <td>94024.0</td>\n",
       "      <td>5106.426249</td>\n",
       "      <td>(3, 2, 3)</td>\n",
       "      <td>3806.712443</td>\n",
       "      <td>1307234</td>\n",
       "      <td>373020</td>\n",
       "      <td>2241447</td>\n",
       "    </tr>\n",
       "  </tbody>\n",
       "</table>\n",
       "</div>"
      ],
      "text/plain": [
       "      Region Name          AIC        PDQ         RMSE  ROI Proj  Worst ROI  \\\n",
       "516       94087.0  4858.906806  (3, 2, 3)  2387.999039   1159441     529117   \n",
       "1397      90057.0  4665.146973  (3, 2, 3)  1657.130063   1031891     244640   \n",
       "1856      95050.0  4706.938825  (2, 2, 2)  1807.023303   1687405     303942   \n",
       "2580      94043.0  4882.069071  (3, 2, 3)  2494.279551   1568611     783171   \n",
       "3017      98119.0  4537.200904  (2, 2, 2)  1311.771139   1204929     506969   \n",
       "3339      94306.0  5070.763511  (3, 2, 3)  3550.077746   1323834     544033   \n",
       "5328      94089.0  4635.071179  (3, 2, 3)  1555.524740   1113077     296895   \n",
       "5414      94024.0  5106.426249  (3, 2, 3)  3806.712443   1307234     373020   \n",
       "\n",
       "      Best ROI  \n",
       "516    1789765  \n",
       "1397   1819142  \n",
       "1856   3070867  \n",
       "2580   2354052  \n",
       "3017   1902890  \n",
       "3339   2103636  \n",
       "5328   1929259  \n",
       "5414   2241447  "
      ]
     },
     "execution_count": 103,
     "metadata": {},
     "output_type": "execute_result"
    }
   ],
   "source": [
    "refine = beta.loc[(beta['ROI Proj'] >= PROI) &\n",
    "        (beta['Worst ROI'] >= WROI) &\n",
    "        (beta['Best ROI'] >= BROI)]\n",
    "refine"
   ]
  },
  {
   "cell_type": "markdown",
   "metadata": {},
   "source": [
    "This is a much smaller subset - it'll be a lot simpler to select a top five candidate from this list. To better understand how these zip codes have performed as a subset, let's compare their historical value trend to that of the overall average."
   ]
  },
  {
   "cell_type": "code",
   "execution_count": 132,
   "metadata": {},
   "outputs": [
    {
     "data": {
      "text/plain": [
       "<matplotlib.legend.Legend at 0x1c30608e390>"
      ]
     },
     "execution_count": 132,
     "metadata": {},
     "output_type": "execute_result"
    },
    {
     "data": {
      "image/png": "[encoded data removed]",
      "text/plain": [
       "<Figure size 1080x720 with 1 Axes>"
      ]
     },
     "metadata": {
      "needs_background": "light"
     },
     "output_type": "display_data"
    }
   ],
   "source": [
    "plt.figure(figsize = (15,10))\n",
    "plt.title('Average Home Value Trend of 99th Percentile, vs Average Overall Trend', fontsize = (20))\n",
    "plt.plot(df.mean()[1:], color = 'blue', label = 'Average Home Value')\n",
    "plt.plot(df.iloc[refine.index].mean()[1:], color = 'orange', label = 'Average Home Value of 99th Percent')\n",
    "plt.xticks(ticks = [0,24,48,72,96,120,144,168,192,216,240,264]);\n",
    "plt.xlabel('Date')\n",
    "plt.ylabel('Home value')\n",
    "plt.legend(loc = 2)"
   ]
  },
  {
   "cell_type": "code",
   "execution_count": 133,
   "metadata": {},
   "outputs": [
    {
     "data": {
      "text/plain": [
       "<matplotlib.legend.Legend at 0x1c3060e7198>"
      ]
     },
     "execution_count": 133,
     "metadata": {},
     "output_type": "execute_result"
    },
    {
     "data": {
      "image/png": "[encoded data removed]",
      "text/plain": [
       "<Figure size 1080x720 with 1 Axes>"
      ]
     },
     "metadata": {
      "needs_background": "light"
     },
     "output_type": "display_data"
    }
   ],
   "source": [
    "plt.figure(figsize = (15,10))\n",
    "plt.title('Revisiting Average Overall Trend', fontsize = (20))\n",
    "plt.plot(df.mean()[1:], color = 'blue', label = 'Average Home Value')\n",
    "plt.xticks(ticks = [0,24,48,72,96,120,144,168,192,216,240,264]);\n",
    "plt.xlabel('Date')\n",
    "plt.ylabel('Home value')\n",
    "plt.legend(loc = 2)"
   ]
  },
  {
   "cell_type": "markdown",
   "metadata": {},
   "source": [
    "Realistically it probably shouldn't come as a surprise that the wealthier (read as 'more expensive') properties are the safest investments with the highest potential for ROI. From here, though, we can take a different approach to select our top five:\n",
    "\n",
    "Rather than rely on just forecasting 60 periods ahead in our ARIMA model, we can slowly walk the model forward by a forecast of 1 prediction, then re-model and repeat until we wind up at our 5-year mark."
   ]
  },
  {
   "cell_type": "markdown",
   "metadata": {},
   "source": [
    "# Final Predictions"
   ]
  },
  {
   "cell_type": "markdown",
   "metadata": {},
   "source": [
    "Since we're looking at a more complex method this time, we need to make sure that we've set up a few helper functions. First, on inspection of the CSV produced by our iterative ARIMA, selecting by AIC still tends to favor more complex models that may have statistically insignificant coeffecients. Through research, we've also found that minimizing AIC also tends to lead to over-favoring differencing. Unfortunately, because of the amount of time it would take to re-model everything with new parameters, we cam only look forward and build better functions.\n",
    "\n",
    "The new function `Penalty_Iterative_ARIMA` has been modified such that a d value of 2 is unachievable, however, it will still iterate and select the lowest AIC value. To adjust for the tendency to select complex models with insignificant coefficients, we built in a penalty term so that models with high complexity AR and MA terms will be penalized proportionate to their complexity. This function handles this with an `if - else` statement, starting on line 26. The penalty simply works like this:\n",
    "\n",
    "$$ where~ p+q > 3, ~penalized ~AIC = AIC (\\frac {p+q}{3})$$"
   ]
  },
  {
   "cell_type": "code",
   "execution_count": 197,
   "metadata": {},
   "outputs": [],
   "source": [
    "def Penalty_Iterative_ARIMA(series):\n",
    "    #This function takes in a timeseries series, iteratively conducts ARIMA models of select PDQ values,\n",
    "    #selects the best model by minimizing AIC, then returns AIC score, optimized PDQ, and model RMSE.\n",
    "    #This function also includes a penalty to AIC such that over-complex models w/ high P and Q\n",
    "    #models will be penalized proportionate to their complexity.\n",
    "    #Note that in this version D cannot be iterated for a value of 2.\n",
    "    #####\n",
    "    #Function iteratively models select permutations of PDQ to generate a list of AIC values.\n",
    "    #Dictionaries tie model paramaters (PDQ) and measure of error (RMSE) to AIC results\n",
    "    #by using AIC as a key value. The function will then select the lowest AIC value from the list,\n",
    "    #then lookup the associated paramters and error in the dictionaries.\n",
    "    p = range(0,4)\n",
    "    d = range(0,2)\n",
    "    q = range(0,4)\n",
    "    \n",
    "    PDQ_result_lookup_by_AIC = {}\n",
    "    RMSE_result_lookup_by_AIC = {}\n",
    "    AIC = []\n",
    "    \n",
    "    for j in d:\n",
    "        for i in p:\n",
    "            for i in q:\n",
    "                try:\n",
    "                    ARIMA_model = ARIMA(endog = series.values, dates = series.index, order = (p[i],d[j],q[i]))\n",
    "                    fit = ARIMA_model.fit()\n",
    "                    if p[i] + q[i] > 3:\n",
    "                        aic = (fit.aic) * ((p[i] + q[i])/3)\n",
    "                    else:\n",
    "                        aic = fit.aic\n",
    "                    AIC.append(aic)\n",
    "                    PDQ_result_lookup_by_AIC[aic] = (p[i],d[j],q[i])\n",
    "                    RMSE_result_lookup_by_AIC[aic] = np.sqrt(np.mean(fit.resid**2))\n",
    "                except:\n",
    "                    continue\n",
    "    best = min(AIC)\n",
    "    pdq = PDQ_result_lookup_by_AIC[best]\n",
    "    rmse = RMSE_result_lookup_by_AIC[best]\n",
    "    return best, pdq, rmse"
   ]
  },
  {
   "cell_type": "markdown",
   "metadata": {},
   "source": [
    "We'll also need a more advanced predictor model that iterates as it appends forecast values. This is given below."
   ]
  },
  {
   "cell_type": "code",
   "execution_count": 178,
   "metadata": {},
   "outputs": [],
   "source": [
    "def ARIMA_advanced_predict(series, pdq, periods):\n",
    "    #This function converts original series values to a list ('History'). A model is run using the specified\n",
    "    #PDQ parameters, and then iteratively forecasts only one additional period at a time,\n",
    "    #regressively adding in the forecast value. It does this for a specified n periods in range.\n",
    "    #Returns the final forecasted result at the end of the specified period.\n",
    "    history = list(series.values)\n",
    "    for n in range(1,periods):\n",
    "        try:\n",
    "            ARIMA_model = ARIMA(endog = history, order = pdq)\n",
    "            fit = ARIMA_model.fit()\n",
    "            history.append(fit.forecast(1)[0])\n",
    "        except:\n",
    "            ARIMA_model = ARIMA(endog = history, order = [0,0,0])\n",
    "            fit = ARIMA_model.fit()\n",
    "            history.append(fit.forecast(1)[0])\n",
    "    forecast_result = history[-1]\n",
    "    return forecast_result"
   ]
  },
  {
   "cell_type": "markdown",
   "metadata": {},
   "source": [
    "# A Test and Final Run"
   ]
  },
  {
   "cell_type": "code",
   "execution_count": 198,
   "metadata": {},
   "outputs": [],
   "source": [
    "TS, RegionName = transform_row(516,df)\n",
    "aic, pdq, rmse = Penalty_Iterative_ARIMA(TS)\n",
    "forecast_result= ARIMA_advanced_predict(TS, pdq, 60)"
   ]
  },
  {
   "cell_type": "code",
   "execution_count": 199,
   "metadata": {},
   "outputs": [
    {
     "data": {
      "text/plain": [
       "array([2968449.70831626])"
      ]
     },
     "execution_count": 199,
     "metadata": {},
     "output_type": "execute_result"
    }
   ],
   "source": [
    "forecast_result"
   ]
  },
  {
   "cell_type": "code",
   "execution_count": 200,
   "metadata": {},
   "outputs": [
    {
     "data": {
      "text/plain": [
       "2737.1610631680155"
      ]
     },
     "execution_count": 200,
     "metadata": {},
     "output_type": "execute_result"
    }
   ],
   "source": [
    "rmse"
   ]
  },
  {
   "cell_type": "code",
   "execution_count": 201,
   "metadata": {},
   "outputs": [
    {
     "data": {
      "text/plain": [
       "(1, 1, 1)"
      ]
     },
     "execution_count": 201,
     "metadata": {},
     "output_type": "execute_result"
    }
   ],
   "source": [
    "pdq"
   ]
  },
  {
   "cell_type": "code",
   "execution_count": 202,
   "metadata": {},
   "outputs": [
    {
     "data": {
      "text/plain": [
       "4935.2903273455295"
      ]
     },
     "execution_count": 202,
     "metadata": {},
     "output_type": "execute_result"
    }
   ],
   "source": [
    "aic"
   ]
  },
  {
   "cell_type": "markdown",
   "metadata": {},
   "source": [
    "The test run seemed to go fine:  nothing exploded, but there's a big difference in RMSE despite increasing AIC very little. However, a 3K RMSE on house values that are consistently 300K+ and bordering on 2million is relatively small compared to the total price.\n",
    "\n",
    "So, that being said, it's time to walk a model on our 99th percentile candidates and then choose the best five."
   ]
  },
  {
   "cell_type": "code",
   "execution_count": 177,
   "metadata": {},
   "outputs": [
    {
     "data": {
      "text/html": [
       "<div>\n",
       "<style scoped>\n",
       "    .dataframe tbody tr th:only-of-type {\n",
       "        vertical-align: middle;\n",
       "    }\n",
       "\n",
       "    .dataframe tbody tr th {\n",
       "        vertical-align: top;\n",
       "    }\n",
       "\n",
       "    .dataframe thead th {\n",
       "        text-align: right;\n",
       "    }\n",
       "</style>\n",
       "<table border=\"1\" class=\"dataframe\">\n",
       "  <thead>\n",
       "    <tr style=\"text-align: right;\">\n",
       "      <th></th>\n",
       "      <th>Region Name</th>\n",
       "      <th>AIC</th>\n",
       "      <th>PDQ</th>\n",
       "      <th>RMSE</th>\n",
       "      <th>Final ROI Estimate</th>\n",
       "    </tr>\n",
       "  </thead>\n",
       "  <tbody>\n",
       "    <tr>\n",
       "      <th>7</th>\n",
       "      <td>94024.0</td>\n",
       "      <td>5177.395673</td>\n",
       "      <td>(1, 1, 1)</td>\n",
       "      <td>4332.681141</td>\n",
       "      <td>763966</td>\n",
       "    </tr>\n",
       "    <tr>\n",
       "      <th>5</th>\n",
       "      <td>94306.0</td>\n",
       "      <td>5155.434574</td>\n",
       "      <td>(1, 1, 1)</td>\n",
       "      <td>4160.189261</td>\n",
       "      <td>745851</td>\n",
       "    </tr>\n",
       "    <tr>\n",
       "      <th>0</th>\n",
       "      <td>94087.0</td>\n",
       "      <td>4935.290327</td>\n",
       "      <td>(1, 1, 1)</td>\n",
       "      <td>2737.161063</td>\n",
       "      <td>692149</td>\n",
       "    </tr>\n",
       "    <tr>\n",
       "      <th>3</th>\n",
       "      <td>94043.0</td>\n",
       "      <td>4998.150593</td>\n",
       "      <td>(1, 1, 1)</td>\n",
       "      <td>3070.445206</td>\n",
       "      <td>519278</td>\n",
       "    </tr>\n",
       "    <tr>\n",
       "      <th>6</th>\n",
       "      <td>94089.0</td>\n",
       "      <td>4714.444727</td>\n",
       "      <td>(1, 1, 1)</td>\n",
       "      <td>1800.244420</td>\n",
       "      <td>444356</td>\n",
       "    </tr>\n",
       "  </tbody>\n",
       "</table>\n",
       "</div>"
      ],
      "text/plain": [
       "   Region Name          AIC        PDQ         RMSE Final ROI Estimate\n",
       "7      94024.0  5177.395673  (1, 1, 1)  4332.681141             763966\n",
       "5      94306.0  5155.434574  (1, 1, 1)  4160.189261             745851\n",
       "0      94087.0  4935.290327  (1, 1, 1)  2737.161063             692149\n",
       "3      94043.0  4998.150593  (1, 1, 1)  3070.445206             519278\n",
       "6      94089.0  4714.444727  (1, 1, 1)  1800.244420             444356"
      ]
     },
     "execution_count": 177,
     "metadata": {},
     "output_type": "execute_result"
    }
   ],
   "source": [
    "Finalists = None\n",
    "Finalists = pd.DataFrame(columns = ['Region Name', 'AIC', 'PDQ', 'RMSE', 'Final ROI Estimate'])\n",
    "\n",
    "for i in range(0, len(refine.index)):\n",
    "    TS, RegionName = transform_row(refine.index[i], df)\n",
    "    aic, pdq, rmse = Penalty_Iterative_ARIMA(TS)\n",
    "    forecast_result= ARIMA_advanced_predict(TS, pdq, 60)\n",
    "    \n",
    "    Finalists = Finalists.append({'Region Name': RegionName,\n",
    "                                 'AIC': aic,\n",
    "                                 'PDQ': pdq,\n",
    "                                 'RMSE': rmse,\n",
    "                                 'Final ROI Estimate': int(forecast_result - TS.values[-1])}, ignore_index = True)\n",
    "\n",
    "Finalists.sort_values(by = 'Final ROI Estimate', ascending = False).head()"
   ]
  },
  {
   "cell_type": "markdown",
   "metadata": {},
   "source": [
    "We got our top 5 zipcodes! But, since it's very biased to the wealthiest counties, couldn't we have just started with a selection of the wealthiest counties to begin with? Let's test that hypothesis by first, looking at the 99th percentile of values at our last measured time date."
   ]
  },
  {
   "cell_type": "code",
   "execution_count": 179,
   "metadata": {},
   "outputs": [
    {
     "data": {
      "text/plain": [
       "1597666.000000003"
      ]
     },
     "execution_count": 179,
     "metadata": {},
     "output_type": "execute_result"
    }
   ],
   "source": [
    "df[df.columns[-1]].quantile(q=0.99)"
   ]
  },
  {
   "cell_type": "markdown",
   "metadata": {},
   "source": [
    "Okay, we'll apply this as a filter to our parent dataset, then save the indices of those column names and see if those made it into our top 1% of forecast candidates."
   ]
  },
  {
   "cell_type": "code",
   "execution_count": 189,
   "metadata": {},
   "outputs": [
    {
     "name": "stdout",
     "output_type": "stream",
     "text": [
      "Top 1% of candidates in parent data set is 148\n"
     ]
    }
   ],
   "source": [
    "check = df.loc[df[df.columns[-1]] >= 1597666].index\n",
    "print(f'Top 1% of candidates in parent data set is {len(check)}')"
   ]
  },
  {
   "cell_type": "code",
   "execution_count": 190,
   "metadata": {},
   "outputs": [
    {
     "name": "stdout",
     "output_type": "stream",
     "text": [
      "These zip codes are both in our top 1% of forecasts AND the top 1% of home values in the parent data set:\n",
      "516\n",
      "2580\n",
      "3339\n",
      "5414\n"
     ]
    }
   ],
   "source": [
    "print('These zip codes are both in our top 1% of forecasts AND the top 1% of home values in the parent data set:')\n",
    "for i in range(0, len(refine.index)):\n",
    "    if refine.index[i] in check:\n",
    "        print(f'{refine.index[i]}')"
   ]
  },
  {
   "cell_type": "markdown",
   "metadata": {},
   "source": [
    "Wow, not only is there very little overlap between our top forecast zip codes and the top one percent of the parent data set, there's 0 overlap between those zip codes and our top five performers."
   ]
  }
 ],
 "metadata": {
  "kernelspec": {
   "display_name": "Python [conda env:learn-env] *",
   "language": "python",
   "name": "conda-env-learn-env-py"
  },
  "language_info": {
   "codemirror_mode": {
    "name": "ipython",
    "version": 3
   },
   "file_extension": ".py",
   "mimetype": "text/x-python",
   "name": "python",
   "nbconvert_exporter": "python",
   "pygments_lexer": "ipython3",
   "version": "3.6.6"
  }
 },
 "nbformat": 4,
 "nbformat_minor": 2
}
